{
 "cells": [
  {
   "cell_type": "markdown",
   "metadata": {},
   "source": [
    "# Babby's First Neural Net"
   ]
  },
  {
   "cell_type": "code",
   "execution_count": null,
   "metadata": {},
   "outputs": [],
   "source": [
    "import math\n",
    "import random\n",
    "\n",
    "w0 = [[random.uniform(-0.1,0.1), random.uniform(-0.1,0.1)], [random.uniform(-0.1,0.1), random.uniform(-0.1,0.1)]]\n",
    "w1 = [random.uniform(-0.1,0.1), random.uniform(-0.1,0.1)]\n",
    "\n",
    "def sigmoid(x):\n",
    "    return 1 / (1 + math.exp(-x))\n",
    "\n",
    "def d_sigmoid(x):\n",
    "    return math.exp(-x)/(1+math.exp(-x))**2"
   ]
  },
  {
   "cell_type": "code",
   "execution_count": null,
   "metadata": {},
   "outputs": [],
   "source": [
    "def test(x0, x1):\n",
    "    return w1[0]*sigmoid(w0[0][0]*x0 + w0[0][1]*x1) + w1[1]*sigmoid(w0[1][0]*x0 + w0[1][1]*x1)"
   ]
  },
  {
   "cell_type": "code",
   "execution_count": null,
   "metadata": {},
   "outputs": [],
   "source": [
    "def train(x0, x1, y):\n",
    "    global w0, w1\n",
    "    # First, evaluate the net to compute the loss\n",
    "    n = test(x0, x1)\n",
    "    loss = (n - y)**2\n",
    "    # Next, we update the weights by subtracting (0.1x) the gradient of loss\n",
    "    w1[0] -= 0.1*2*(n - y)*sigmoid(w0[0][0]*x0 + w0[0][1]*x1)\n",
    "    w1[1] -= 0.1*2*(n - y)*sigmoid(w0[1][0]*x0 + w0[1][1]*x1)\n",
    "    w0[0][0] -= 0.1*2*(n - y)*w1[0]*d_sigmoid(w0[0][0]*x0 + w0[0][1]*x1)*x0\n",
    "    w0[0][1] -= 0.1*2*(n - y)*w1[0]*d_sigmoid(w0[0][0]*x0 + w0[0][1]*x1)*x1\n",
    "    w0[1][0] -= 0.1*2*(n - y)*w1[1]*d_sigmoid(w0[1][0]*x0 + w0[1][1]*x1)*x0\n",
    "    w0[1][1] -= 0.1*2*(n - y)*w1[1]*d_sigmoid(w0[1][0]*x0 + w0[1][1]*x1)*x1\n",
    "    return loss"
   ]
  },
  {
   "cell_type": "code",
   "execution_count": null,
   "metadata": {},
   "outputs": [],
   "source": [
    "for batch in range(1000):\n",
    "    loss = 0\n",
    "    for i in range(1000):\n",
    "        x0 = random.random()\n",
    "        x1 = random.random()\n",
    "        loss += train(x0, x1, x0*x1)\n",
    "    loss /= 1000\n",
    "    if batch % 100 == 0:\n",
    "        print(\"Batch: {} Avg Loss: {}\".format(batch, loss))"
   ]
  },
  {
   "cell_type": "code",
   "execution_count": null,
   "metadata": {},
   "outputs": [],
   "source": [
    "test(0.4,0.6)"
   ]
  }
 ],
 "metadata": {
  "kernelspec": {
   "display_name": "Python 3",
   "language": "python",
   "name": "python3"
  },
  "language_info": {
   "codemirror_mode": {
    "name": "ipython",
    "version": 3
   },
   "file_extension": ".py",
   "mimetype": "text/x-python",
   "name": "python",
   "nbconvert_exporter": "python",
   "pygments_lexer": "ipython3",
   "version": "3.10.12"
  }
 },
 "nbformat": 4,
 "nbformat_minor": 2
}
