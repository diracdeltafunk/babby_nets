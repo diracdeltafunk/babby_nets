{
 "cells": [
  {
   "cell_type": "markdown",
   "id": "6781c8ca",
   "metadata": {},
   "source": [
    "# Babby's Second Neural Net"
   ]
  },
  {
   "cell_type": "code",
   "execution_count": null,
   "id": "5e0455b2",
   "metadata": {},
   "outputs": [],
   "source": [
    "import math\n",
    "import random\n",
    "\n",
    "LAYER_SIZES = [2,6,6,1]\n",
    "NUM_LAYERS = len(LAYER_SIZES)\n",
    "LEARNING_RATE = 0.1"
   ]
  },
  {
   "cell_type": "markdown",
   "id": "3a876f2b",
   "metadata": {},
   "source": [
    "Our activation function is the \"sigmoid\"/\"logistic function\" x ↦ 1/(1+e^-x)"
   ]
  },
  {
   "cell_type": "code",
   "execution_count": null,
   "id": "6f9719d9",
   "metadata": {},
   "outputs": [],
   "source": [
    "def activation(x):\n",
    "    return 1/(1+math.exp(-x))\n",
    "\n",
    "def d_activation(x):\n",
    "    return math.exp(-x)/(1+math.exp(-x))**2"
   ]
  },
  {
   "cell_type": "code",
   "execution_count": null,
   "id": "e757ece4",
   "metadata": {},
   "outputs": [],
   "source": [
    "weights = [[[random.uniform(-0.1,0.1) for _ in range(LAYER_SIZES[i])] for _ in range(LAYER_SIZES[i+1])] for i in range(NUM_LAYERS-1)]"
   ]
  },
  {
   "cell_type": "markdown",
   "id": "8c4175af",
   "metadata": {},
   "source": [
    "The network will use sigmoid activations for all hidden layers but raw linear combo at the output."
   ]
  },
  {
   "cell_type": "code",
   "execution_count": null,
   "id": "83953d0d",
   "metadata": {},
   "outputs": [],
   "source": [
    "def train(xs, ys):\n",
    "    global weights\n",
    "    pres = []\n",
    "    values = []\n",
    "    # compute input values\n",
    "    pres.append(xs)\n",
    "    values.append(xs)\n",
    "    # compute other layers\n",
    "    for i in range(1, NUM_LAYERS-1):\n",
    "        l = [sum(values[i-1][k]*weights[i-1][j][k] for k in range(LAYER_SIZES[i-1])) for j in range(LAYER_SIZES[i])]\n",
    "        pres.append(l)\n",
    "        values.append(list(map(activation,l)))\n",
    "    # compute output layer\n",
    "    values.append([sum(values[NUM_LAYERS-2][k]*weights[NUM_LAYERS-2][j][k] for k in range(LAYER_SIZES[-2])) for j in range(LAYER_SIZES[-1])])\n",
    "    # compute loss\n",
    "    loss = sum((values[-1][j]-ys[j])**2 for j in range(LAYER_SIZES[-1]))\n",
    "    deltas = [[] for _ in range(NUM_LAYERS)]\n",
    "    # compute deltas\n",
    "    deltas[-1] = [(values[-1][j]-ys[j]) for j in range(LAYER_SIZES[-1])]\n",
    "    for i in range(NUM_LAYERS-2,0,-1):\n",
    "        deltas[i] = [d_activation(pres[i][j])*sum(weights[i][k][j]*deltas[i+1][k] for k in range(LAYER_SIZES[i+1])) for j in range(LAYER_SIZES[i])]\n",
    "    # update weights\n",
    "    for i in range(NUM_LAYERS-1):\n",
    "        for j in range(LAYER_SIZES[i]):\n",
    "            for k in range(LAYER_SIZES[i+1]):\n",
    "                weights[i][k][j] -= LEARNING_RATE*2*deltas[i+1][k]*values[i][j]\n",
    "    return loss\n",
    "\n",
    "def test(xs):\n",
    "    values = xs\n",
    "    for i in range(1, NUM_LAYERS-1):\n",
    "        values = list(map(activation,[sum(values[k]*weights[i-1][j][k] for k in range(LAYER_SIZES[i-1])) for j in range(LAYER_SIZES[i])]))\n",
    "    return [sum(values[k]*weights[-1][j][k] for k in range(LAYER_SIZES[-2])) for j in range(LAYER_SIZES[-1])]"
   ]
  },
  {
   "cell_type": "markdown",
   "id": "82cf1a2b",
   "metadata": {},
   "source": [
    "Let's train on 1 million random data points."
   ]
  },
  {
   "cell_type": "code",
   "execution_count": null,
   "id": "5a2c867a",
   "metadata": {},
   "outputs": [],
   "source": [
    "for batch in range(1000):\n",
    "    loss = 0\n",
    "    for i in range(1000):\n",
    "        x0 = random.random()\n",
    "        x1 = random.random()\n",
    "        loss += train([x0,x1],[x0*x1])\n",
    "    loss /= 100\n",
    "    if batch % 100 == 0:\n",
    "        print(\"Batch: {} Avg Loss: {}\".format(batch, loss))"
   ]
  },
  {
   "cell_type": "code",
   "execution_count": null,
   "id": "cf17d5e7",
   "metadata": {},
   "outputs": [],
   "source": [
    "test([0.4,0.2])"
   ]
  }
 ],
 "metadata": {
  "kernelspec": {
   "display_name": "Python 3",
   "language": "python",
   "name": "python3"
  },
  "language_info": {
   "codemirror_mode": {
    "name": "ipython",
    "version": 3
   },
   "file_extension": ".py",
   "mimetype": "text/x-python",
   "name": "python",
   "nbconvert_exporter": "python",
   "pygments_lexer": "ipython3",
   "version": "3.10.12"
  }
 },
 "nbformat": 4,
 "nbformat_minor": 5
}
