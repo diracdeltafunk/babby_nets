{
 "cells": [
  {
   "cell_type": "code",
   "execution_count": 21,
   "metadata": {},
   "outputs": [],
   "source": [
    "import math\n",
    "import random\n",
    "\n",
    "LEARNING_RATE = 0.0001\n",
    "\n",
    "def activation(x):\n",
    "    return 1/(1 + math.exp(-x))\n",
    "\n",
    "def d_activation(x):\n",
    "    return (math.exp(-x))/((1+ math.exp(-x))**2)"
   ]
  },
  {
   "cell_type": "code",
   "execution_count": 17,
   "metadata": {},
   "outputs": [],
   "source": [
    "weights0 = [[random.uniform(-0.1,0.1),random.uniform(-0.1,0.1)],[random.uniform(-0.1,0.1),random.uniform(-0.1,0.1)]]\n",
    "weights1 = [random.uniform(-0.1,0.1),random.uniform(-0.1,0.1)]"
   ]
  },
  {
   "cell_type": "code",
   "execution_count": 3,
   "metadata": {},
   "outputs": [],
   "source": [
    "def net(x0,x1):\n",
    "    return weights1[0]*activation(weights0[0][0]*x0 + weights0[0][1]*x1) + weights1[1]*activation(weights0[1][0]*x0 + weights0[1][1]*x1)"
   ]
  },
  {
   "cell_type": "code",
   "execution_count": 14,
   "metadata": {},
   "outputs": [],
   "source": [
    "def train(x0,x1,y):\n",
    "    global weights0, weights1\n",
    "    loss = (net(x0,x1)-y)**2\n",
    "    n = net(x0, x1)\n",
    "    weights1[0] -= LEARNING_RATE*(n-y)*activation(weights0[0][0]*x0 + weights0[0][1]*x1)\n",
    "    weights1[1] -= LEARNING_RATE*(n-y)*activation(weights0[1][0]*x0 + weights0[1][1]*x1)\n",
    "    weights0[0][0] -= LEARNING_RATE*(n-y)*weights1[0]*d_activation(weights0[0][0]*x0 + weights0[0][1]*x1)*x0\n",
    "    weights0[0][1] -= LEARNING_RATE*(n-y)*weights1[0]*d_activation(weights0[0][0]*x0 + weights0[0][1]*x1)*x1\n",
    "    weights0[1][0] -= LEARNING_RATE*(n-y)*weights1[1]*d_activation(weights0[1][0]*x0 + weights0[1][1]*x1)*x0\n",
    "    weights0[1][1] -= LEARNING_RATE*(n-y)*weights1[1]*d_activation(weights0[1][0]*x0 + weights0[1][1]*x1)*x1\n",
    "    return loss\n"
   ]
  },
  {
   "cell_type": "code",
   "execution_count": 22,
   "metadata": {},
   "outputs": [
    {
     "name": "stdout",
     "output_type": "stream",
     "text": [
      "Epoch 0, Loss 0.008738627624180333\n",
      "Epoch 20, Loss 0.008507035312919898\n",
      "Epoch 40, Loss 0.007819879890430526\n",
      "Epoch 60, Loss 0.00834590913530687\n",
      "Epoch 80, Loss 0.007787817459331719\n",
      "Epoch 100, Loss 0.008871943129473344\n",
      "Epoch 120, Loss 0.007470135635573851\n",
      "Epoch 140, Loss 0.008211343743944171\n",
      "Epoch 160, Loss 0.008533605176911848\n",
      "Epoch 180, Loss 0.00814374627023664\n",
      "Epoch 200, Loss 0.007611986286342367\n",
      "Epoch 220, Loss 0.007971923431880348\n",
      "Epoch 240, Loss 0.00827192072797214\n",
      "Epoch 260, Loss 0.007436220947178737\n",
      "Epoch 280, Loss 0.007950343357104976\n",
      "Epoch 300, Loss 0.008219414493956008\n",
      "Epoch 320, Loss 0.008185650444671427\n",
      "Epoch 340, Loss 0.0088935984323609\n",
      "Epoch 360, Loss 0.007963429903349042\n",
      "Epoch 380, Loss 0.00774008452385316\n",
      "Epoch 400, Loss 0.008162221532522634\n",
      "Epoch 420, Loss 0.008655738969490656\n",
      "Epoch 440, Loss 0.008046894463909115\n",
      "Epoch 460, Loss 0.007787519616284794\n",
      "Epoch 480, Loss 0.007873487057165092\n",
      "Epoch 500, Loss 0.008438979967666517\n",
      "Epoch 520, Loss 0.0077212316392013085\n",
      "Epoch 540, Loss 0.007983869676711275\n",
      "Epoch 560, Loss 0.008926288586456279\n",
      "Epoch 580, Loss 0.008036557283737113\n",
      "Epoch 600, Loss 0.008012799193204741\n",
      "Epoch 620, Loss 0.007803873951243554\n",
      "Epoch 640, Loss 0.007972856638075653\n",
      "Epoch 660, Loss 0.007801360544196301\n",
      "Epoch 680, Loss 0.007622546611940655\n",
      "Epoch 700, Loss 0.00803263287759503\n",
      "Epoch 720, Loss 0.0077348312506540055\n",
      "Epoch 740, Loss 0.008018270830238369\n",
      "Epoch 760, Loss 0.007855645099807722\n",
      "Epoch 780, Loss 0.008008152013510518\n",
      "Epoch 800, Loss 0.007645422738072976\n",
      "Epoch 820, Loss 0.008247013407495311\n",
      "Epoch 840, Loss 0.008249803867740265\n",
      "Epoch 860, Loss 0.00829114077646267\n",
      "Epoch 880, Loss 0.007935570805335364\n",
      "Epoch 900, Loss 0.008036999664349407\n",
      "Epoch 920, Loss 0.00807085197886219\n",
      "Epoch 940, Loss 0.008100504090490068\n",
      "Epoch 960, Loss 0.008208838286308837\n",
      "Epoch 980, Loss 0.008759329279575945\n"
     ]
    }
   ],
   "source": [
    "for epoch in range(1000):\n",
    "    avg_loss = 0\n",
    "    for n in range(1000):\n",
    "        x0 = random.uniform(0,1)\n",
    "        x1 = random.uniform(0,1)\n",
    "        avg_loss += train(x0, x1, x0*x1)\n",
    "    if epoch % 20 == 0:\n",
    "        print(\"Epoch {}, Loss {}\".format(epoch, avg_loss/1000))"
   ]
  },
  {
   "cell_type": "code",
   "execution_count": 27,
   "metadata": {},
   "outputs": [
    {
     "ename": "OverflowError",
     "evalue": "math range error",
     "output_type": "error",
     "traceback": [
      "\u001b[0;31m---------------------------------------------------------------------------\u001b[0m",
      "\u001b[0;31mOverflowError\u001b[0m                             Traceback (most recent call last)",
      "\u001b[0;32m/tmp/ipykernel_14073/1196835330.py\u001b[0m in \u001b[0;36m<module>\u001b[0;34m\u001b[0m\n\u001b[0;32m----> 1\u001b[0;31m \u001b[0mnet\u001b[0m\u001b[0;34m(\u001b[0m\u001b[0;36m1000\u001b[0m\u001b[0;34m,\u001b[0m\u001b[0;36m1000\u001b[0m\u001b[0;34m)\u001b[0m\u001b[0;34m\u001b[0m\u001b[0;34m\u001b[0m\u001b[0m\n\u001b[0m",
      "\u001b[0;32m/tmp/ipykernel_14073/2755052227.py\u001b[0m in \u001b[0;36mnet\u001b[0;34m(x0, x1)\u001b[0m\n\u001b[1;32m      1\u001b[0m \u001b[0;32mdef\u001b[0m \u001b[0mnet\u001b[0m\u001b[0;34m(\u001b[0m\u001b[0mx0\u001b[0m\u001b[0;34m,\u001b[0m\u001b[0mx1\u001b[0m\u001b[0;34m)\u001b[0m\u001b[0;34m:\u001b[0m\u001b[0;34m\u001b[0m\u001b[0;34m\u001b[0m\u001b[0m\n\u001b[0;32m----> 2\u001b[0;31m     \u001b[0;32mreturn\u001b[0m \u001b[0mweights1\u001b[0m\u001b[0;34m[\u001b[0m\u001b[0;36m0\u001b[0m\u001b[0;34m]\u001b[0m\u001b[0;34m*\u001b[0m\u001b[0mactivation\u001b[0m\u001b[0;34m(\u001b[0m\u001b[0mweights0\u001b[0m\u001b[0;34m[\u001b[0m\u001b[0;36m0\u001b[0m\u001b[0;34m]\u001b[0m\u001b[0;34m[\u001b[0m\u001b[0;36m0\u001b[0m\u001b[0;34m]\u001b[0m\u001b[0;34m*\u001b[0m\u001b[0mx0\u001b[0m \u001b[0;34m+\u001b[0m \u001b[0mweights0\u001b[0m\u001b[0;34m[\u001b[0m\u001b[0;36m0\u001b[0m\u001b[0;34m]\u001b[0m\u001b[0;34m[\u001b[0m\u001b[0;36m1\u001b[0m\u001b[0;34m]\u001b[0m\u001b[0;34m*\u001b[0m\u001b[0mx1\u001b[0m\u001b[0;34m)\u001b[0m \u001b[0;34m+\u001b[0m \u001b[0mweights1\u001b[0m\u001b[0;34m[\u001b[0m\u001b[0;36m1\u001b[0m\u001b[0;34m]\u001b[0m\u001b[0;34m*\u001b[0m\u001b[0mactivation\u001b[0m\u001b[0;34m(\u001b[0m\u001b[0mweights0\u001b[0m\u001b[0;34m[\u001b[0m\u001b[0;36m1\u001b[0m\u001b[0;34m]\u001b[0m\u001b[0;34m[\u001b[0m\u001b[0;36m0\u001b[0m\u001b[0;34m]\u001b[0m\u001b[0;34m*\u001b[0m\u001b[0mx0\u001b[0m \u001b[0;34m+\u001b[0m \u001b[0mweights0\u001b[0m\u001b[0;34m[\u001b[0m\u001b[0;36m1\u001b[0m\u001b[0;34m]\u001b[0m\u001b[0;34m[\u001b[0m\u001b[0;36m1\u001b[0m\u001b[0;34m]\u001b[0m\u001b[0;34m*\u001b[0m\u001b[0mx1\u001b[0m\u001b[0;34m)\u001b[0m\u001b[0;34m\u001b[0m\u001b[0;34m\u001b[0m\u001b[0m\n\u001b[0m",
      "\u001b[0;32m/tmp/ipykernel_14073/924846337.py\u001b[0m in \u001b[0;36mactivation\u001b[0;34m(x)\u001b[0m\n\u001b[1;32m      5\u001b[0m \u001b[0;34m\u001b[0m\u001b[0m\n\u001b[1;32m      6\u001b[0m \u001b[0;32mdef\u001b[0m \u001b[0mactivation\u001b[0m\u001b[0;34m(\u001b[0m\u001b[0mx\u001b[0m\u001b[0;34m)\u001b[0m\u001b[0;34m:\u001b[0m\u001b[0;34m\u001b[0m\u001b[0;34m\u001b[0m\u001b[0m\n\u001b[0;32m----> 7\u001b[0;31m     \u001b[0;32mreturn\u001b[0m \u001b[0;36m1\u001b[0m\u001b[0;34m/\u001b[0m\u001b[0;34m(\u001b[0m\u001b[0;36m1\u001b[0m \u001b[0;34m+\u001b[0m \u001b[0mmath\u001b[0m\u001b[0;34m.\u001b[0m\u001b[0mexp\u001b[0m\u001b[0;34m(\u001b[0m\u001b[0;34m-\u001b[0m\u001b[0mx\u001b[0m\u001b[0;34m)\u001b[0m\u001b[0;34m)\u001b[0m\u001b[0;34m\u001b[0m\u001b[0;34m\u001b[0m\u001b[0m\n\u001b[0m\u001b[1;32m      8\u001b[0m \u001b[0;34m\u001b[0m\u001b[0m\n\u001b[1;32m      9\u001b[0m \u001b[0;32mdef\u001b[0m \u001b[0md_activation\u001b[0m\u001b[0;34m(\u001b[0m\u001b[0mx\u001b[0m\u001b[0;34m)\u001b[0m\u001b[0;34m:\u001b[0m\u001b[0;34m\u001b[0m\u001b[0;34m\u001b[0m\u001b[0m\n",
      "\u001b[0;31mOverflowError\u001b[0m: math range error"
     ]
    }
   ],
   "source": [
    "net(1000,1000)"
   ]
  },
  {
   "cell_type": "code",
   "execution_count": null,
   "metadata": {},
   "outputs": [],
   "source": []
  }
 ],
 "metadata": {
  "kernelspec": {
   "display_name": "Python 3",
   "language": "python",
   "name": "python3"
  },
  "language_info": {
   "codemirror_mode": {
    "name": "ipython",
    "version": 3
   },
   "file_extension": ".py",
   "mimetype": "text/x-python",
   "name": "python",
   "nbconvert_exporter": "python",
   "pygments_lexer": "ipython3",
   "version": "3.10.12"
  }
 },
 "nbformat": 4,
 "nbformat_minor": 2
}
